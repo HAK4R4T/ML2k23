{
 "cells": [
  {
   "cell_type": "code",
   "execution_count": 2,
   "id": "17c4b4c4",
   "metadata": {},
   "outputs": [
    {
     "name": "stdout",
     "output_type": "stream",
     "text": [
      "   #                   Name Type 1  Type 2  Total  HP  Attack  Defense  \\\n",
      "0  1              Bulbasaur  Grass  Poison    318  45      49       49   \n",
      "1  2                Ivysaur  Grass  Poison    405  60      62       63   \n",
      "2  3               Venusaur  Grass  Poison    525  80      82       83   \n",
      "3  3  VenusaurMega Venusaur  Grass  Poison    625  80     100      123   \n",
      "4  4             Charmander   Fire     NaN    309  39      52       43   \n",
      "\n",
      "   Sp. Atk  Sp. Def  Speed  Generation  Legendary  GenerationLabel  \\\n",
      "0       65       65     45           1      False              NaN   \n",
      "1       80       80     60           1      False              NaN   \n",
      "2      100      100     80           1      False              NaN   \n",
      "3      122      120     80           1      False              NaN   \n",
      "4       60       50     65           1      False              NaN   \n",
      "\n",
      "   Generation  Generation  Legendary  \n",
      "0           1           1      False  \n",
      "1           1           1      False  \n",
      "2           1           1      False  \n",
      "3           1           1      False  \n",
      "4           1           1      False  \n"
     ]
    }
   ],
   "source": [
    "import pandas as pd\n",
    "df=pd.read_csv('/home//Documents/ML/pokemon.csv',encoding='utf-8')\n",
    "\n",
    "nominal_features = ['Generation']\n",
    "df_nominal = pd.get_dummies(df[nominal_features])\n",
    "\n",
    "gen_ord_map = {'Gen 1':1,'Gen 2':2,'Gen 3':3,\n",
    "              'Gen 4':4,'Gen 5':5,'Gen 6':6,}\n",
    "\n",
    "df['GenerationLabel'] = df['Generation'].map(gen_ord_map)\n",
    "\n",
    "categorical_features = ['Generation','Legendary']\n",
    "df_encoded = pd.get_dummies(df[categorical_features])\n",
    "\n",
    "df_transformed=pd.concat([df,df_nominal,df_encoded],axis=1)\n",
    "\n",
    "print(df_transformed.head())"
   ]
  },
  {
   "cell_type": "code",
   "execution_count": null,
   "id": "6f117cdb",
   "metadata": {},
   "outputs": [],
   "source": []
  }
 ],
 "metadata": {
  "kernelspec": {
   "display_name": "Python 3 (ipykernel)",
   "language": "python",
   "name": "python3"
  },
  "language_info": {
   "codemirror_mode": {
    "name": "ipython",
    "version": 3
   },
   "file_extension": ".py",
   "mimetype": "text/x-python",
   "name": "python",
   "nbconvert_exporter": "python",
   "pygments_lexer": "ipython3",
   "version": "3.10.12"
  }
 },
 "nbformat": 4,
 "nbformat_minor": 5
}
